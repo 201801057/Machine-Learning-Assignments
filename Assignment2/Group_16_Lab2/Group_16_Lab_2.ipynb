{
  "nbformat": 4,
  "nbformat_minor": 0,
  "metadata": {
    "colab": {
      "name": "Group_16_Lab_21.ipynb",
      "provenance": [],
      "collapsed_sections": []
    },
    "kernelspec": {
      "display_name": "Python 3",
      "language": "python",
      "name": "python3"
    },
    "language_info": {
      "codemirror_mode": {
        "name": "ipython",
        "version": 3
      },
      "file_extension": ".py",
      "mimetype": "text/x-python",
      "name": "python",
      "nbconvert_exporter": "python",
      "pygments_lexer": "ipython3",
      "version": "3.9.1"
    }
  },
  "cells": [
    {
      "cell_type": "markdown",
      "metadata": {
        "id": "__RGWZW6IMGA"
      },
      "source": [
        "***Course : IE-406 Machine Learning***\n",
        "\n",
        "***Group: 16***\n",
        "\n",
        "***Group Members:***\n",
        "\n",
        "***Ravi Patel - 201801046***\n",
        "\n",
        "***Ayan Khokhar - 201801057***\n",
        "\n",
        "***Prakhar Maheshwari - 201801432***\n",
        "\n",
        "***Jaydeep Machhi - 201801452***\n",
        "\n",
        "***Aakash Panchal - 201801459***\n"
      ]
    },
    {
      "cell_type": "markdown",
      "metadata": {
        "id": "1_E7hTRo0iPo"
      },
      "source": [
        "***Question 1: Implement polynomial regression as a special case of linear regression. First generate\n",
        "some data as follows.***"
      ]
    },
    {
      "cell_type": "code",
      "metadata": {
        "id": "dv5re_6GIyCv"
      },
      "source": [
        "import numpy as np\n",
        "import pandas as pd\n",
        "import random\n",
        "from sklearn.linear_model import LinearRegression\n",
        "from sklearn.metrics import mean_squared_error\n",
        "from sklearn.model_selection import train_test_split"
      ],
      "execution_count": 1,
      "outputs": []
    },
    {
      "cell_type": "code",
      "metadata": {
        "colab": {
          "base_uri": "https://localhost:8080/"
        },
        "id": "LIJgynlXILS5",
        "scrolled": true,
        "outputId": "960925fc-ed24-4968-941e-24259afe1ae8"
      },
      "source": [
        "# Data Generation\n",
        "x = np.arange(0, 20.1, 0.1)\n",
        "np.random.seed(0)\n",
        "y = 1*x**5 + 3*x**4 - 100*x**3 + 8*x**2 -300*x - 1e5 + np.random.randn(len(x))*1e5\n",
        "#Printing the first 10 values only\n",
        "print('X = ', x[:10])\n",
        "print('Y = ', y[:10])"
      ],
      "execution_count": null,
      "outputs": [
        {
          "output_type": "stream",
          "name": "stdout",
          "text": [
            "X =  [0.  0.1 0.2 0.3 0.4 0.5 0.6 0.7 0.8 0.9]\n",
            "Y =  [  76405.23459677  -60014.29885328   -2186.67646943  123997.36665015\n",
            "   86630.766055   -197888.06923764   -5189.41168744 -115375.21245977\n",
            " -110606.40869936  -59274.01101616]\n"
          ]
        }
      ]
    },
    {
      "cell_type": "markdown",
      "metadata": {
        "id": "6d5_n61UJBmk"
      },
      "source": [
        "***We can use the linear regression implementations for doing so, by transforming the\n",
        "dataset and creating the matrix X containing columns corresponding to x0, x1, x2, ..., xp.\n",
        "Using any of your implementations above learn the regression coefficients for p = 5\n",
        "and p = 4. How close are your coefficients for p = 5 to the ones used to generate the\n",
        "data?***"
      ]
    },
    {
      "cell_type": "code",
      "metadata": {
        "colab": {
          "base_uri": "https://localhost:8080/"
        },
        "id": "qAPb_HLdH_5j",
        "outputId": "86c5dd24-3756-4f69-c4de-ace7b9f0a850"
      },
      "source": [
        "#For p = 4 degree polynomial\n",
        "newX = []\n",
        "mul = 1\n",
        "for i in range(0, 5):\n",
        "    mul = mul * x\n",
        "    newX.append(mul)\n",
        "\n",
        "newX = np.array(newX)\n",
        "newX = newX.T\n",
        "# print((newX.shape))\n",
        "X_train, X_test, y_train, y_test = train_test_split(newX, y, test_size=0.33, random_state=42)\n",
        "\n",
        "reg = LinearRegression().fit(X_train, y_train)\n",
        "\n",
        "print(f'Regression Coefficients = {reg.coef_}')\n",
        "print(f'Regression Intercept {reg.intercept_}')\n",
        "print(f'Regression Score = {reg.score(X_test, y_test)}')\n",
        "predicted_y = reg.predict(newX)\n",
        "mse = mean_squared_error(y, predicted_y, squared = False)\n",
        "# print(predicted_y)\n",
        "print(f'Root Mean Squared Error = {mse}')"
      ],
      "execution_count": null,
      "outputs": [
        {
          "output_type": "stream",
          "name": "stdout",
          "text": [
            "Regression Coefficients = [-9.13511917e+04  1.36268352e+04 -4.14618192e+02 -3.36189972e+01\n",
            "  2.45206708e+00]\n",
            "Regression Intercept 30933.713570617023\n",
            "Regression Score = 0.9782024578345158\n",
            "Root Mean Squared Error = 97021.26616028769\n"
          ]
        }
      ]
    },
    {
      "cell_type": "code",
      "metadata": {
        "id": "RxOekFbE0iPt",
        "colab": {
          "base_uri": "https://localhost:8080/"
        },
        "outputId": "b2cfa695-20de-45a6-a47b-3a303749e1bb"
      },
      "source": [
        "#For p = 5 degree polynomial\n",
        "newX = []\n",
        "mul = 1\n",
        "for i in range(0, 6):\n",
        "    mul = mul * x\n",
        "    newX.append(mul)\n",
        "\n",
        "newX = np.array(newX)\n",
        "newX = newX.T\n",
        "# print((newX.shape))\n",
        "X_train, X_test, y_train, y_test = train_test_split(newX, y, test_size=0.33, random_state=42)\n",
        "\n",
        "reg = LinearRegression().fit(X_train, y_train)\n",
        "\n",
        "print(f'Regression Coefficients = {reg.coef_}')\n",
        "print(f'Regression Intercept {reg.intercept_}')\n",
        "print(f'Regression Score = {reg.score(X_test, y_test)}')\n",
        "predicted_y = reg.predict(newX)\n",
        "mse = mean_squared_error(y, predicted_y, squared = False)\n",
        "# print(predicted_y)\n",
        "print(f'Root Mean Squared Error = {mse}')"
      ],
      "execution_count": null,
      "outputs": [
        {
          "output_type": "stream",
          "name": "stdout",
          "text": [
            "Regression Coefficients = [-1.39455103e+05  3.85506445e+04 -5.46473224e+03  4.42682862e+02\n",
            " -1.85689676e+01  3.50879604e-01]\n",
            "Regression Intercept 50134.468212532636\n",
            "Regression Score = 0.9776815417322802\n",
            "Root Mean Squared Error = 97213.15953592927\n"
          ]
        }
      ]
    },
    {
      "cell_type": "markdown",
      "metadata": {
        "id": "uRYunqcg0iPv"
      },
      "source": [
        "***Question 2: Find minima of following functions using Gradient\n",
        "Descent method with learning rate 0.01 and 0.1 and\n",
        "different number of iterations. Try choosing a large value\n",
        "of learning rate and test the convergence. For L5(θ), use\n",
        "the data file***"
      ]
    },
    {
      "cell_type": "code",
      "metadata": {
        "id": "uGNXXzdx7CvH"
      },
      "source": [
        "#Helper Functions for Gradient Descent Method\n",
        "\n",
        "def gradient_descent_iterative(gradient_func, start, alpha, iterations = 1e8, err = 1e-09):\n",
        "  # Initialize the xn with start values \n",
        "  xn = start\n",
        "\n",
        "  # Loop until the iterations get finished\n",
        "  for i in range(int(iterations)):\n",
        "    # Calculate the gradient function \n",
        "    xnew = - alpha * gradient_func(xn)\n",
        "\n",
        "    # Check that the convergence is achieved\n",
        "    if np.abs(xnew) <= err:\n",
        "      break\n",
        "    xn += xnew\n",
        "\n",
        "  return xn\n",
        "\n",
        "def gradient_descent_iterative_two_var(gradient_func, start, alpha, iterations = 1e8, err = 1e-09):\n",
        "  # Initialize the xn with start values \n",
        "  xn = start\n",
        "\n",
        "  # Loop until the iterations get finished\n",
        "  for i in range(int(iterations)):\n",
        "    # Calculate the gradient function \n",
        "    xnew = - alpha * np.array(gradient_func(xn))\n",
        "\n",
        "\n",
        "    # Check that the convergence is achieved\n",
        "    if np.all(np.abs(xnew) <= err):\n",
        "      break\n",
        "    xn += xnew\n",
        "\n",
        "  return xn\n"
      ],
      "execution_count": null,
      "outputs": []
    },
    {
      "cell_type": "markdown",
      "metadata": {
        "id": "YsVeCApsAIyf"
      },
      "source": [
        "2(a)"
      ]
    },
    {
      "cell_type": "code",
      "metadata": {
        "colab": {
          "base_uri": "https://localhost:8080/"
        },
        "id": "t4_nU2mF0iPw",
        "outputId": "5470ff1b-7226-4f0c-e16e-663c92a408cd"
      },
      "source": [
        "alpha = 0.1 # Learning Rate \n",
        "gradient_func = lambda theta: 2*theta\n",
        "func = lambda theta: theta*theta\n",
        "ans = gradient_descent_iterative(gradient_func, 5, alpha)\n",
        "print(f'θ = {ans}')\n",
        "print(f'L(θ) = {func(ans)}')\n"
      ],
      "execution_count": null,
      "outputs": [
        {
          "output_type": "stream",
          "name": "stdout",
          "text": [
            "θ = 4.856672230564326e-09\n",
            "L(θ) = 2.3587265155134666e-17\n"
          ]
        }
      ]
    },
    {
      "cell_type": "code",
      "metadata": {
        "colab": {
          "base_uri": "https://localhost:8080/"
        },
        "id": "C3zHNh4J0iPx",
        "outputId": "6a72cdf3-c940-4df5-c311-261ee267f687"
      },
      "source": [
        "alpha = 0.01 # Learning Rate \n",
        "gradient_func = lambda theta: 2*theta\n",
        "func = lambda theta: theta*theta\n",
        "ans = gradient_descent_iterative(gradient_func, 5, alpha)\n",
        "print(f'θ = {ans}')\n",
        "print(f'L(θ) = {func(ans)}')\n"
      ],
      "execution_count": null,
      "outputs": [
        {
          "output_type": "stream",
          "name": "stdout",
          "text": [
            "θ = 4.979102145973068e-08\n",
            "L(θ) = 2.479145818003361e-15\n"
          ]
        }
      ]
    },
    {
      "cell_type": "markdown",
      "metadata": {
        "id": "560ORjJdAGTC"
      },
      "source": [
        "2(b)"
      ]
    },
    {
      "cell_type": "code",
      "metadata": {
        "colab": {
          "base_uri": "https://localhost:8080/"
        },
        "id": "EFUrZ2jiAGDW",
        "outputId": "65aa80f1-77aa-469a-e9d7-328256658431"
      },
      "source": [
        "alpha = 0.01 # Learning Rate \n",
        "\n",
        "def my_func(theta):\n",
        "  return [2 * theta[0], 2 * theta[1]]\n",
        "\n",
        "def func(theta):\n",
        "  return theta[0] * theta[0] + theta[1] * theta[1]\n",
        "\n",
        "ans = gradient_descent_iterative_two_var(my_func, [5, 5], alpha)\n",
        "print(f'θ1 = {ans[0]} and θ2 = {ans[1]}')\n",
        "print(f'Minima value of L(θ) = {func(ans)}')\n"
      ],
      "execution_count": null,
      "outputs": [
        {
          "output_type": "stream",
          "name": "stdout",
          "text": [
            "θ1 = 4.979102145973068e-08 and θ2 = 4.979102145973068e-08\n",
            "Minima value of L(θ) = 4.958291636006722e-15\n"
          ]
        }
      ]
    },
    {
      "cell_type": "code",
      "metadata": {
        "colab": {
          "base_uri": "https://localhost:8080/"
        },
        "id": "q8cWAkglBvxM",
        "outputId": "27407be7-246d-4c52-cea6-6250d0cb08e6"
      },
      "source": [
        "alpha = 0.1 # Learning Rate \n",
        "\n",
        "def my_func(theta):\n",
        "  return [2 * theta[0], 2 * theta[1]]\n",
        "\n",
        "def func(theta):\n",
        "  return theta[0] * theta[0] + theta[1] * theta[1]\n",
        "\n",
        "ans = gradient_descent_iterative_two_var(my_func, [5, 5], alpha)\n",
        "# print(ans)\n",
        "\n",
        "print(f'θ1 = {ans[0]} and θ2 = {ans[1]}')\n",
        "print(f'Minima value of L(θ) = {func(ans)}')\n"
      ],
      "execution_count": null,
      "outputs": [
        {
          "output_type": "stream",
          "name": "stdout",
          "text": [
            "θ1 = 4.856672230564326e-09 and θ2 = 4.856672230564326e-09\n",
            "Minima value of L(θ) = 4.717453031026933e-17\n"
          ]
        }
      ]
    },
    {
      "cell_type": "markdown",
      "metadata": {
        "id": "6F31AvH9Bxs-"
      },
      "source": [
        "2(c)"
      ]
    },
    {
      "cell_type": "code",
      "metadata": {
        "colab": {
          "base_uri": "https://localhost:8080/"
        },
        "id": "oh0V4ONWBy3z",
        "outputId": "aed13443-2b1c-49fe-f0c3-2ac8811de376"
      },
      "source": [
        "alpha = 0.01 # Learning Rate \n",
        "\n",
        "def my_func(theta):\n",
        "  return 2 * (theta - 1)\n",
        "\n",
        "def func(theta):\n",
        "  return (theta - 1) ** 2\n",
        "ans = gradient_descent_iterative(my_func, 5, alpha)\n",
        "print(f'θ = {ans}')\n",
        "print(f'Minima value of L(θ) = {func(ans)}')"
      ],
      "execution_count": null,
      "outputs": [
        {
          "output_type": "stream",
          "name": "stdout",
          "text": [
            "θ = 1.0000000497455448\n",
            "Minima value of L(θ) = 2.474619226904864e-15\n"
          ]
        }
      ]
    },
    {
      "cell_type": "code",
      "metadata": {
        "colab": {
          "base_uri": "https://localhost:8080/"
        },
        "id": "6TXZ4f49D34r",
        "outputId": "90c089a8-4e83-4528-dc3a-b287469e7932"
      },
      "source": [
        "alpha = 0.1 # Learning Rate \n",
        "\n",
        "def my_func(theta):\n",
        "  return 2 * (theta - 1)\n",
        "\n",
        "def func(theta):\n",
        "  return (theta - 1) ** 2\n",
        "\n",
        "ans = gradient_descent_iterative(my_func, 5, alpha)\n",
        "# print(ans)\n",
        "print(f'θ = {ans}')\n",
        "print(f'Minima value of L(θ) = {func(ans)}')\n"
      ],
      "execution_count": null,
      "outputs": [
        {
          "output_type": "stream",
          "name": "stdout",
          "text": [
            "θ = 1.0000000048566722\n",
            "Minima value of L(θ) = 2.3587264620615693e-17\n"
          ]
        }
      ]
    },
    {
      "cell_type": "markdown",
      "metadata": {
        "id": "mvFgBFgOD6OL"
      },
      "source": [
        "2(d)"
      ]
    },
    {
      "cell_type": "code",
      "metadata": {
        "colab": {
          "base_uri": "https://localhost:8080/"
        },
        "id": "4j1KCNg-D7ez",
        "outputId": "bc8de0d7-7b65-4cfc-91a4-2107a8ad117a"
      },
      "source": [
        "alpha = 0.01 # Learning Rate \n",
        "\n",
        "def my_func(theta):\n",
        "  return [4 * (theta[0] - 1), 4 * (theta[1] - 1)] \n",
        "\n",
        "ans = gradient_descent_iterative_two_var(my_func, [5,5], alpha)\n",
        "# print(ans)\n",
        "\n",
        "def func(theta):\n",
        "  return  (2* (theta[0] - 1) * (theta[0] - 1)) + (2* (theta[1] - 1) * (theta[1] - 1))\n",
        "\n",
        "print(f'θ1 = {ans[0]} and θ2 = {ans[1]}')\n",
        "print(f'Minima value of L(θ) = {func(ans)}')\n"
      ],
      "execution_count": null,
      "outputs": [
        {
          "output_type": "stream",
          "name": "stdout",
          "text": [
            "θ1 = 1.0000000247537435 and θ2 = 1.0000000247537435\n",
            "Minima value of L(θ) = 2.450991268939751e-15\n"
          ]
        }
      ]
    },
    {
      "cell_type": "code",
      "metadata": {
        "colab": {
          "base_uri": "https://localhost:8080/"
        },
        "id": "hxu8E7ayEOJo",
        "outputId": "da04ebee-c7f9-44c4-901e-979cf5ec372a"
      },
      "source": [
        "alpha = 0.1 # Learning Rate \n",
        "\n",
        "def my_func(theta):\n",
        "  return [4 * (theta[0] - 1), 4 * (theta[1] - 1)] \n",
        "\n",
        "ans = gradient_descent_iterative_two_var(my_func, [5,5], alpha)\n",
        "# print(ans)\n",
        "\n",
        "def func(theta):\n",
        "  return  (2* (theta[0] - 1) * (theta[0] - 1)) + (2* (theta[1] - 1) * (theta[1] - 1))\n",
        "\n",
        "print(f'θ1 = {ans[0]} and θ2 = {ans[1]}')\n",
        "print(f'Minima value of L(θ) = {func(ans)}')\n"
      ],
      "execution_count": null,
      "outputs": [
        {
          "output_type": "stream",
          "name": "stdout",
          "text": [
            "θ1 = 1.0000000019249191 and θ2 = 1.0000000019249191\n",
            "Minima value of L(θ) = 1.4821254366284845e-17\n"
          ]
        }
      ]
    },
    {
      "cell_type": "markdown",
      "metadata": {
        "id": "rsTmfXytER5Y"
      },
      "source": [
        "2(e) Least Square Function"
      ]
    },
    {
      "cell_type": "code",
      "metadata": {
        "colab": {
          "base_uri": "https://localhost:8080/",
          "height": 422
        },
        "id": "OCMgKzNJEUN_",
        "outputId": "2aa90bb0-4435-4347-fd44-fbf24024d26b"
      },
      "source": [
        "#First we read the data \n",
        "df = pd.read_excel('/content/data.xlsx')\n",
        "df"
      ],
      "execution_count": 2,
      "outputs": [
        {
          "output_type": "execute_result",
          "data": {
            "text/html": [
              "<div>\n",
              "<style scoped>\n",
              "    .dataframe tbody tr th:only-of-type {\n",
              "        vertical-align: middle;\n",
              "    }\n",
              "\n",
              "    .dataframe tbody tr th {\n",
              "        vertical-align: top;\n",
              "    }\n",
              "\n",
              "    .dataframe thead th {\n",
              "        text-align: right;\n",
              "    }\n",
              "</style>\n",
              "<table border=\"1\" class=\"dataframe\">\n",
              "  <thead>\n",
              "    <tr style=\"text-align: right;\">\n",
              "      <th></th>\n",
              "      <th>x</th>\n",
              "      <th>y</th>\n",
              "    </tr>\n",
              "  </thead>\n",
              "  <tbody>\n",
              "    <tr>\n",
              "      <th>0</th>\n",
              "      <td>3504</td>\n",
              "      <td>18.0</td>\n",
              "    </tr>\n",
              "    <tr>\n",
              "      <th>1</th>\n",
              "      <td>3693</td>\n",
              "      <td>15.0</td>\n",
              "    </tr>\n",
              "    <tr>\n",
              "      <th>2</th>\n",
              "      <td>3436</td>\n",
              "      <td>18.0</td>\n",
              "    </tr>\n",
              "    <tr>\n",
              "      <th>3</th>\n",
              "      <td>3433</td>\n",
              "      <td>16.0</td>\n",
              "    </tr>\n",
              "    <tr>\n",
              "      <th>4</th>\n",
              "      <td>3449</td>\n",
              "      <td>17.0</td>\n",
              "    </tr>\n",
              "    <tr>\n",
              "      <th>...</th>\n",
              "      <td>...</td>\n",
              "      <td>...</td>\n",
              "    </tr>\n",
              "    <tr>\n",
              "      <th>89</th>\n",
              "      <td>2790</td>\n",
              "      <td>27.0</td>\n",
              "    </tr>\n",
              "    <tr>\n",
              "      <th>90</th>\n",
              "      <td>2130</td>\n",
              "      <td>44.0</td>\n",
              "    </tr>\n",
              "    <tr>\n",
              "      <th>91</th>\n",
              "      <td>2295</td>\n",
              "      <td>32.0</td>\n",
              "    </tr>\n",
              "    <tr>\n",
              "      <th>92</th>\n",
              "      <td>2625</td>\n",
              "      <td>28.0</td>\n",
              "    </tr>\n",
              "    <tr>\n",
              "      <th>93</th>\n",
              "      <td>2720</td>\n",
              "      <td>31.0</td>\n",
              "    </tr>\n",
              "  </tbody>\n",
              "</table>\n",
              "<p>94 rows × 2 columns</p>\n",
              "</div>"
            ],
            "text/plain": [
              "       x     y\n",
              "0   3504  18.0\n",
              "1   3693  15.0\n",
              "2   3436  18.0\n",
              "3   3433  16.0\n",
              "4   3449  17.0\n",
              "..   ...   ...\n",
              "89  2790  27.0\n",
              "90  2130  44.0\n",
              "91  2295  32.0\n",
              "92  2625  28.0\n",
              "93  2720  31.0\n",
              "\n",
              "[94 rows x 2 columns]"
            ]
          },
          "metadata": {},
          "execution_count": 2
        }
      ]
    },
    {
      "cell_type": "code",
      "metadata": {
        "id": "6TL89egVEtkJ",
        "colab": {
          "base_uri": "https://localhost:8080/"
        },
        "outputId": "5209f7a6-b1b2-445a-bc83-f3bf218cbedd"
      },
      "source": [
        "x = df['x']\n",
        "y = df['y']\n",
        "x = np.array(x)\n",
        "x = x - np.mean(x)\n",
        "x = x/np.std(x)\n",
        "y = np.array(y)\n",
        "print(x, y)"
      ],
      "execution_count": 3,
      "outputs": [
        {
          "output_type": "stream",
          "name": "stdout",
          "text": [
            "[ 0.67812404  0.91514992  0.59284489  0.58908257  0.60914825  1.7278101\n",
            "  1.74411347  1.69144105  1.83315494  1.11204444  0.75211625  0.80980509\n",
            "  1.00042908  0.15390806 -0.74152306 -0.16338056 -0.23737277 -0.47189044\n",
            " -1.04501652 -1.41497756 -0.3652915  -0.66878496 -0.73776075 -0.91458958\n",
            " -0.39539002  2.07143493  1.77170378  1.77922842  2.21816524 -0.62614538\n",
            " -0.93214705 -0.49070202 -0.88825337 -0.95472095  1.56979285  1.53844022\n",
            "  1.25250423  1.56979285  0.33826153  0.48875415  0.06110428  0.15265396\n",
            " -1.16415652 -1.00237694 -1.28705883 -1.46514177  0.86247751  0.7659114\n",
            "  0.85495287  0.28809732 -1.42751861 -1.22059125 -1.01366389 -0.49948075\n",
            "  0.23417079  1.22491391  0.38466342 -0.04173235  1.07442129  1.77672021\n",
            "  1.36913601  1.13712655  0.99290445 -0.44931655 -0.40542286 -0.71267864\n",
            " -0.4869397  -0.54964496 -0.28628287 -0.12324919  0.0899487  -1.2331323\n",
            " -1.17669757 -1.24567336 -1.05128705 -1.05128705 -1.00739337 -0.95095863\n",
            " -0.90079442 -1.25194388 -1.25194388 -1.21432073 -0.02292077  0.06486659\n",
            " -0.47439865 -0.16087235 -0.37407023 -0.74403127 -0.01665025 -0.21730708\n",
            " -1.04501652 -0.83808916 -0.42423444 -0.30509445] [18.  15.  18.  16.  17.  15.  14.  14.  14.  15.  15.  14.  15.  14.\n",
            " 24.  22.  18.  21.  27.  26.  25.  24.  25.  26.  21.  10.  10.  11.\n",
            "  9.  28.  25.  25.  26.  27.  17.5 16.  15.5 14.5 22.  22.  24.  22.5\n",
            " 29.  24.5 29.  33.  20.  18.  18.5 17.5 29.5 32.  28.  26.5 20.  13.\n",
            " 19.  19.  16.5 16.5 13.  13.  13.  28.  27.  34.  31.  29.  27.  24.\n",
            " 23.  36.  37.  31.  38.  36.  36.  36.  34.  38.  32.  38.  25.  38.\n",
            " 26.  22.  32.  36.  27.  27.  44.  32.  28.  31. ]\n"
          ]
        }
      ]
    },
    {
      "cell_type": "code",
      "metadata": {
        "id": "mCvBA0y5EyHT"
      },
      "source": [
        "def gradient_descent_iterative_5(gradient_func, params, start, alpha, iterations = 5000, err = 1e-06):\n",
        "  xn = start\n",
        "  x = params[0]\n",
        "  y = params[1]\n",
        "\n",
        "  for i in range(int(iterations)):\n",
        "    xnew = - alpha * np.array(gradient_func(xn, x, y))\n",
        "    if np.all(np.abs(xnew) <= err):\n",
        "      break\n",
        "    xn += xnew\n",
        "\n",
        "  return xn\n",
        "\n",
        "def lsgradient(theta, x, y):\n",
        "  val = theta[0] + theta[1] * x - y\n",
        "  val = val * 2\n",
        "  return [val.sum(), (val*x).sum()]"
      ],
      "execution_count": null,
      "outputs": []
    },
    {
      "cell_type": "code",
      "metadata": {
        "id": "HpBTSWpcFImE",
        "colab": {
          "base_uri": "https://localhost:8080/"
        },
        "outputId": "f9e646f4-2adb-4466-ca52-a8845d7d4dfb"
      },
      "source": [
        "alpha = 0.01\n",
        "ans = gradient_descent_iterative_5(lsgradient, [x,y], [-5,-5], alpha)\n",
        "print(f'θ1 = {ans[0]} and θ2 = {ans[1]}')\n",
        "def func(theta, x, y):\n",
        "  return np.sum((y - (theta[0] + theta[1] * x)) ** 2)\n",
        "\n",
        "print(f'Minima value of L(θ) = {func(ans, x, y)}')"
      ],
      "execution_count": null,
      "outputs": [
        {
          "output_type": "stream",
          "name": "stdout",
          "text": [
            "θ1 = 23.718084621396557 and θ2 = -6.86699541572586\n",
            "Minima value of L(θ) = 1572.6503668923142\n"
          ]
        }
      ]
    },
    {
      "cell_type": "code",
      "metadata": {
        "id": "798ZGFbFNrsO",
        "colab": {
          "base_uri": "https://localhost:8080/"
        },
        "outputId": "0c377ccb-a3fa-4ee8-c547-66f08a32b278"
      },
      "source": [
        "alpha = 0.1\n",
        "ans = gradient_descent_iterative_5(lsgradient, [x,y], [-5,-5], alpha, 1)\n",
        "print(f'θ1 = {ans[0]} and θ2 = {ans[1]}')\n",
        "def func(theta, x, y):\n",
        "  return np.sum((y - (theta[0] + theta[1] * x)) ** 2)\n",
        "\n",
        "print(f'Minima value of L(θ) = {func(ans, x, y)}')"
      ],
      "execution_count": null,
      "outputs": [
        {
          "output_type": "stream",
          "name": "stdout",
          "text": [
            "θ1 = 534.9 and θ2 = -40.0995144084012\n",
            "Minima value of L(θ) = 24668239.59086284\n"
          ]
        }
      ]
    },
    {
      "cell_type": "markdown",
      "metadata": {
        "id": "xFByaw4cXhSW"
      },
      "source": [
        "***Question 3: Find minimum of the function $L(\\theta) = \\sum_{i=1}^{m} \\left(y^{(i)} - ({\\theta}_0 + {\\theta}_1 \\cdot x^{(i)}) \\right)^2 $ using the\n",
        "Stochastic Gradient Descent method (Take the data from the data file). Choose\n",
        "different learning rates and number of iterations.***"
      ]
    },
    {
      "cell_type": "code",
      "metadata": {
        "id": "NyEBYIxXYr_B"
      },
      "source": [
        "def stochastic_gradient_descent(gradient_func, params, start, alpha, batch_size = 1, iterations = 5000, err = 1e-06):\n",
        "\n",
        "  # float data type in numpy format \n",
        "  dataType = np.dtype('float64')\n",
        "\n",
        "  x = np.array(params[0], dtype = dataType)\n",
        "  y = np.array(params[1], dtype = dataType)\n",
        "\n",
        "  n = x.shape[0]\n",
        "  if(y.shape[0] != n) : \n",
        "    raise ValueError(\"'X' and 'Y' must have same length\")\n",
        "\n",
        "  xy = np.c_[x.reshape(n, -1), y.reshape(n, 1)]\n",
        "\n",
        "  data = np.array(start, dtype = dataType)\n",
        "\n",
        "  rng = np.random.default_rng(seed=31032000)\n",
        "\n",
        "  alpha = np.array(alpha, dtype = dataType)\n",
        "\n",
        "  if not 0 < batch_size <= n : \n",
        "    raise ValueError(\"Batch size must lie between 1 and 'Number of Observations'\")\n",
        "\n",
        "  for itr in range(iterations) : \n",
        "    rng.shuffle(xy)\n",
        "\n",
        "    for start in range(0, n, batch_size) : \n",
        "      stop = start + batch_size \n",
        "      currX, currY = xy[start:stop, :-1], xy[start:stop, -1:]  \n",
        "      currGrad = np.array(gradient_func(data, currX, currY), dataType)\n",
        "      currError = -alpha * currGrad\n",
        "\n",
        "      if (np.all(currError) <= err) : \n",
        "        break\n",
        "\n",
        "      data += currError\n",
        "\n",
        "  return data\n",
        "\n",
        "def lsgradient(theta, x, y):\n",
        "  val = theta[0] + theta[1] * x - y\n",
        "  val = val * 2\n",
        "  return [val.sum(), (val*x).sum()]"
      ],
      "execution_count": 4,
      "outputs": []
    },
    {
      "cell_type": "code",
      "metadata": {
        "id": "9CdrKqzvYZTC",
        "colab": {
          "base_uri": "https://localhost:8080/"
        },
        "outputId": "f0541686-3c0b-4a7f-a6ee-cf344ce16564"
      },
      "source": [
        "alpha = 0.01\n",
        "\n",
        "ans = stochastic_gradient_descent(lsgradient, [x,y], [5,5], alpha, 25, 5000)\n",
        "print(ans)\n",
        "def func(theta, x, y):\n",
        "  return np.sum((y - (theta[0] + theta[1] * x)) ** 2)\n",
        "\n",
        "print(f'Minima value of L(θ) = {func(ans, x, y)}')"
      ],
      "execution_count": 5,
      "outputs": [
        {
          "output_type": "stream",
          "name": "stdout",
          "text": [
            "[23.65233444 -6.69984829]\n",
            "Minima value of L(θ) = 1575.6829311649976\n"
          ]
        }
      ]
    },
    {
      "cell_type": "code",
      "metadata": {
        "colab": {
          "base_uri": "https://localhost:8080/"
        },
        "id": "5UpVAU1DKDR_",
        "outputId": "ae71e33c-3e59-43c7-d6f0-72a249104ffe"
      },
      "source": [
        "alpha = 0.1\n",
        "\n",
        "ans = stochastic_gradient_descent(lsgradient, [x,y], [5,5], alpha, 25, 1)\n",
        "print(ans)\n",
        "def func(theta, x, y):\n",
        "  return np.sum((y - (theta[0] + theta[1] * x)) ** 2)\n",
        "\n",
        "print(f'Minima value of L(θ) = {func(ans, x, y)}')"
      ],
      "execution_count": 10,
      "outputs": [
        {
          "output_type": "stream",
          "name": "stdout",
          "text": [
            "[-3564.66405431  1678.69815446]\n",
            "Minima value of L(θ) = 1477457500.433954\n"
          ]
        }
      ]
    },
    {
      "cell_type": "markdown",
      "metadata": {
        "id": "nJKytSX3ZXGy"
      },
      "source": [
        "***Question 4: Find the minima of following functions using the Steepest Descent method.***"
      ]
    },
    {
      "cell_type": "code",
      "metadata": {
        "id": "qa2GBsKV4OSQ"
      },
      "source": [
        "import sympy as syp\n",
        "def steepest_gradient_descent_one_parameter(iterations, L):\n",
        "    optimum_theta = 10\n",
        "    optimum_alpha = 0.1\n",
        "\n",
        "    dL_dtheta = syp.diff(L, theta)\n",
        "\n",
        "    alpha = syp.symbols('a')\n",
        "    L_alpha = L.subs(theta, theta - (alpha * dL_dtheta))\n",
        "    L_alpha_d1 = syp.diff(L_alpha, alpha)\n",
        "    L_alpha_d2 = syp.diff(L_alpha_d1, alpha)\n",
        "    ratio = L_alpha_d1 / L_alpha_d2\n",
        "\n",
        "    for i in range(iterations):\n",
        "        for j in range(iterations):\n",
        "            optimum_alpha = optimum_alpha - ratio.subs({alpha: optimum_alpha, theta: optimum_theta})\n",
        "        optimum_theta = optimum_theta - optimum_alpha * dL_dtheta.subs(theta, optimum_theta)\n",
        "    print('Optial value of theta : ', optimum_theta)\n",
        "    print('Minimum value of L(theta) : ', L.subs(theta, optimum_theta))"
      ],
      "execution_count": null,
      "outputs": []
    },
    {
      "cell_type": "markdown",
      "metadata": {
        "id": "rfDIA-ILK32h"
      },
      "source": [
        "**Question 4a**"
      ]
    },
    {
      "cell_type": "code",
      "metadata": {
        "id": "VZ7NMf2wKmth",
        "colab": {
          "base_uri": "https://localhost:8080/"
        },
        "outputId": "b1a02f26-97d2-4d62-a683-8d137391dbd9"
      },
      "source": [
        "theta = syp.symbols('theta')\n",
        "steepest_gradient_descent_one_parameter(25, np.square(theta))"
      ],
      "execution_count": null,
      "outputs": [
        {
          "output_type": "stream",
          "name": "stdout",
          "text": [
            "Optial value of theta :  0\n",
            "Minimum value of L(theta) :  0\n"
          ]
        }
      ]
    },
    {
      "cell_type": "code",
      "metadata": {
        "id": "p0S5TycYKn31"
      },
      "source": [
        "def steepest_gradient_descent_two_parameter(iterations, L):\n",
        "    optimum_theta0 = 10\n",
        "    optimum_theta1 = 10\n",
        "    optimum_alpha = 0.1\n",
        "    \n",
        "    dL_dtheta0 = syp.diff(L, theta0)\n",
        "    dL_dtheta1 = syp.diff(L, theta1)\n",
        "    \n",
        "    alpha = syp.symbols('a')\n",
        "    L_alpha = L.subs({theta0 : theta0 - (alpha * dL_dtheta0), theta1 : theta1 - (alpha * dL_dtheta1)})\n",
        "    L_alpha_d1 = syp.diff(L_alpha, alpha)\n",
        "    L_alpha_d2 = syp.diff(L_alpha_d1, alpha)\n",
        "    ratio = L_alpha_d1 / L_alpha_d2\n",
        "\n",
        "    for i in range(iterations):\n",
        "        for j in range(iterations):\n",
        "            optimum_alpha = optimum_alpha - ratio.subs({alpha : optimum_alpha, theta0 : optimum_theta0, theta1 : optimum_theta1})\n",
        "        optimum_theta0 = optimum_theta0 - optimum_alpha * dL_dtheta0.subs({theta0 : optimum_theta0, theta1 : optimum_theta1})\n",
        "        optimum_theta1 = optimum_theta1 - optimum_alpha * dL_dtheta1.subs({theta0 : optimum_theta0, theta1 : optimum_theta1})\n",
        "    print('Optimal value of theta0: ', optimum_theta0)\n",
        "    print('Optimal value of theta1: ', optimum_theta1)\n",
        "    print('Minimum value of L(theta0, theta1): ', L.subs({theta0 : optimum_theta0, theta1 : optimum_theta1}))"
      ],
      "execution_count": null,
      "outputs": []
    },
    {
      "cell_type": "markdown",
      "metadata": {
        "id": "WgQuOTexM7HM"
      },
      "source": [
        "**Question 4b**"
      ]
    },
    {
      "cell_type": "code",
      "metadata": {
        "id": "lASCEb96MqZQ",
        "colab": {
          "base_uri": "https://localhost:8080/"
        },
        "outputId": "ee3d9581-e2e7-4a85-eae9-00a53aff8a27"
      },
      "source": [
        "theta0 = syp.symbols('theta0')\n",
        "theta1 = syp.symbols('theta1')\n",
        "steepest_gradient_descent_two_parameter(25, np.square(theta0) + np.square(theta1))"
      ],
      "execution_count": null,
      "outputs": [
        {
          "output_type": "stream",
          "name": "stdout",
          "text": [
            "Optimal value of theta0:  0\n",
            "Optimal value of theta1:  0\n",
            "Minimum value of L(theta0, theta1):  0\n"
          ]
        }
      ]
    },
    {
      "cell_type": "markdown",
      "metadata": {
        "id": "d6tgZnryM9rL"
      },
      "source": [
        "**Question 4c**"
      ]
    },
    {
      "cell_type": "code",
      "metadata": {
        "id": "JYiQkLvZM97q",
        "colab": {
          "base_uri": "https://localhost:8080/"
        },
        "outputId": "d55eb097-0de4-437b-ae53-d272bffedf18"
      },
      "source": [
        "theta = syp.symbols('theta')\n",
        "steepest_gradient_descent_one_parameter(25, np.square(theta - 1))"
      ],
      "execution_count": null,
      "outputs": [
        {
          "output_type": "stream",
          "name": "stdout",
          "text": [
            "Optial value of theta :  1.00000000000000\n",
            "Minimum value of L(theta) :  0\n"
          ]
        }
      ]
    },
    {
      "cell_type": "markdown",
      "metadata": {
        "id": "GmqP4tC2NR_9"
      },
      "source": [
        "**Question 4d**"
      ]
    },
    {
      "cell_type": "code",
      "metadata": {
        "id": "qyifQoEnM1ie",
        "colab": {
          "base_uri": "https://localhost:8080/"
        },
        "outputId": "e5e87517-1230-45bf-840a-9b2ffe7baced"
      },
      "source": [
        "theta0 = syp.symbols('theta0')\n",
        "theta1 = syp.symbols('theta1')\n",
        "L = 2 * np.square(theta0 - 1) + 2 * np.square(theta1 - 1)\n",
        "steepest_gradient_descent_two_parameter(25, L)"
      ],
      "execution_count": null,
      "outputs": [
        {
          "output_type": "stream",
          "name": "stdout",
          "text": [
            "Optimal value of theta0:  1.00000000000000\n",
            "Optimal value of theta1:  1.00000000000000\n",
            "Minimum value of L(theta0, theta1):  0\n"
          ]
        }
      ]
    },
    {
      "cell_type": "markdown",
      "metadata": {
        "id": "O9yU-t-FNgrt"
      },
      "source": [
        "**Question 4e**"
      ]
    },
    {
      "cell_type": "code",
      "metadata": {
        "id": "ZOrEjwRuNg4e",
        "colab": {
          "base_uri": "https://localhost:8080/"
        },
        "outputId": "44012d12-3a6c-4861-b145-f4aec32c3eb4"
      },
      "source": [
        "location = r\"/content/data.xlsx\"\n",
        "df = pd.read_excel(location)\n",
        "\n",
        "x = np.array(df['x'])\n",
        "x = x - np.mean(x)\n",
        "x = x / np.std(x)\n",
        "\n",
        "y = np.array(df['y'])\n",
        "\n",
        "theta0 = syp.symbols('theta0')\n",
        "theta1 = syp.symbols('theta1')\n",
        "L = np.sum((y - (theta0 + theta1 * x)) ** 2)\n",
        "steepest_gradient_descent_two_parameter(4, L)"
      ],
      "execution_count": null,
      "outputs": [
        {
          "output_type": "stream",
          "name": "stdout",
          "text": [
            "Optimal value of theta0:  23.7873552232581\n",
            "Optimal value of theta1:  -6.88576009845154\n",
            "Minimum value of L(theta0, theta1):  1573.13451024758\n"
          ]
        }
      ]
    },
    {
      "cell_type": "markdown",
      "metadata": {
        "id": "LX4gsnVI-bAK"
      },
      "source": [
        "***Question 5: The following question is to aid your understanding of gradient descent with the help of\n",
        "some visualization. Consider the data X and Y as given below.***"
      ]
    },
    {
      "cell_type": "markdown",
      "metadata": {
        "id": "-8gxrgkR-j42"
      },
      "source": [
        "***5a: Create a contour plot in the $θ_0$ and $θ_1$ space of residual sum of squares.***"
      ]
    },
    {
      "cell_type": "code",
      "metadata": {
        "id": "HKTNn-5f-apr",
        "colab": {
          "base_uri": "https://localhost:8080/"
        },
        "outputId": "73e54dcb-f0bb-4919-9e60-9a1278ee997c"
      },
      "source": [
        "import matplotlib.animation as ani\n",
        "from matplotlib import  pyplot as plt\n",
        "from mpl_toolkits import mplot3d\n",
        "X = np.array([1,3,6])\n",
        "Y = np.array([6,10,16])\n",
        "print(f'X = {X}')\n",
        "print(f'Y = {Y}')"
      ],
      "execution_count": null,
      "outputs": [
        {
          "output_type": "stream",
          "name": "stdout",
          "text": [
            "X = [1 3 6]\n",
            "Y = [ 6 10 16]\n"
          ]
        }
      ]
    },
    {
      "cell_type": "code",
      "metadata": {
        "id": "LZuqsA_NJpMh",
        "colab": {
          "base_uri": "https://localhost:8080/",
          "height": 318
        },
        "outputId": "81395a4b-aa99-4b92-9ae6-25f057332d88"
      },
      "source": [
        "start = -50\n",
        "stop = 50\n",
        "step = 0.1\n",
        "theta0 = np.arange(start, stop, step)\n",
        "theta1 = np.arange(start, stop, step)\n",
        "\n",
        "new_theta = np.meshgrid(theta0, theta1)\n",
        "new_theta = np.array(new_theta)\n",
        "\n",
        "Ltheta = 0\n",
        "\n",
        "# Residual Calculation\n",
        "for i in range(len(X)):\n",
        "  Ltheta = Ltheta + (Y[i] - (new_theta[0] + new_theta[1] * X[i])) ** 2\n",
        "\n",
        "fig=plt.figure()\n",
        "ax =plt.axes(projection = '3d')\n",
        "\n",
        "ax.contour3D(new_theta[0], new_theta[1], Ltheta, 100)\n",
        "ax.set_xlabel('$θ_1$')\n",
        "ax.set_ylabel('$θ_2$')\n",
        "ax.set_zlabel('L($θ$)')"
      ],
      "execution_count": null,
      "outputs": [
        {
          "output_type": "stream",
          "name": "stderr",
          "text": [
            "/usr/local/lib/python3.7/dist-packages/numpy/core/_asarray.py:136: VisibleDeprecationWarning: Creating an ndarray from ragged nested sequences (which is a list-or-tuple of lists-or-tuples-or ndarrays with different lengths or shapes) is deprecated. If you meant to do this, you must specify 'dtype=object' when creating the ndarray\n",
            "  return array(a, dtype, copy=False, order=order, subok=True)\n"
          ]
        },
        {
          "output_type": "execute_result",
          "data": {
            "text/plain": [
              "Text(0.5, 0, 'L($θ$)')"
            ]
          },
          "metadata": {},
          "execution_count": 30
        },
        {
          "output_type": "display_data",
          "data": {
            "image/png": "[encoded data removed]",
            "text/plain": [
              "<Figure size 432x288 with 1 Axes>"
            ]
          },
          "metadata": {
            "needs_background": "light"
          }
        }
      ]
    },
    {
      "cell_type": "markdown",
      "metadata": {
        "id": "nxkzQnb5c2oR"
      },
      "source": [
        "***5(b):Create a Matplotlib animation where the plot contains two columns: the first one being\n",
        "the contour plot and the second one being the linear regression fit on the data. The\n",
        "different frames in the animation correspond to different iterations of gradient descent\n",
        "applied on the dataset to learn $θ_0$ and $θ_1$. For each iteration, draw the current value of\n",
        "$q_0$ and $q_1$ on the contour plot and also an arrow to the next $q_0$  and  $q_1$ as learnt by gradient\n",
        "update rule. Correspondingly draw the y = $θ_0$ + $θ_1$ × x line on the other subplot showing\n",
        "the scatter plot. The overall title of the plot shows the iteration number and the residual\n",
        "sum of squares. You are free to use any gradient descent implementation i.e. your own\n",
        "or using libraries like scikit learn.***"
      ]
    },
    {
      "cell_type": "code",
      "metadata": {
        "id": "YK_kBIeo_I7t",
        "colab": {
          "base_uri": "https://localhost:8080/",
          "height": 1000
        },
        "outputId": "35ea3c40-bd27-40b6-d2bb-0b7bdedcbade"
      },
      "source": [
        "# Gradient Descent Helper function\n",
        "def gradient_descent_iterative_with_plotting(gradient_func, params, start, alpha, iterations = 5000, err = 1e-06):\n",
        "  xn = start\n",
        "  x = params[0]\n",
        "  y = params[1]\n",
        "  figname = '1'\n",
        "  for i in range(int(iterations)):\n",
        "    # if i < 10:\n",
        "    if i < 100:\n",
        "      plot_function(xn, i, figname)\n",
        "    figname += '1'\n",
        "    # if i > 300 and i < 305:\n",
        "      # plot_function(xn, i)\n",
        "\n",
        "    xnew = - alpha * np.array(gradient_func(xn, x, y))\n",
        "    if np.all(np.abs(xnew) <= err):\n",
        "      # print(i)\n",
        "      break\n",
        "    xn += xnew\n",
        "  return xn\n",
        "\n",
        "# Declaring Gradient Function of L(theta)\n",
        "def lsgradient(theta, x, y):\n",
        "  val = theta[0] + theta[1] * x - y\n",
        "  return [val.mean(), (val*x).mean()]\n",
        "\n",
        "def func(theta, x, y):\n",
        "  return np.sum((y - (theta[0] + theta[1] * x)) ** 2)\n",
        "\n",
        "\n",
        "def plot_function(params, iteration_number, figname):\n",
        "  step = 0.1\n",
        "  start = -10\n",
        "  end = 10\n",
        "  x_axis_1 = np.arange(start,end,step)\n",
        "  y_axis_1 = np.arange(start,end,step)\n",
        "  x_axis_2 = np.arange(start,end,step)\n",
        "  y_axis_2 = params[0] + params[1] * x_axis_2\n",
        "  fig, (ax1,ax2) = plt.subplots(1,2, figsize=(6,4))\n",
        "  fig.suptitle(f'Iteration Number_{iteration_number}')\n",
        "  new_theta = np.meshgrid(x_axis_1, y_axis_1)\n",
        "  \n",
        "  Ltheta = 0\n",
        "\n",
        "  for i in range(len(X)):\n",
        "    Ltheta = Ltheta + (Y[i] - (new_theta[0] + new_theta[1] * X[i])) ** 2\n",
        "  # plt.figure(2)\n",
        "  ax1.contour(new_theta[0], new_theta[1], Ltheta)\n",
        "  ax1.plot(params[0],params[1], 'o')\n",
        "  ax1.annotate('Theta', (params[0], params[1]))\n",
        "  ax1.arrow(params[0], params[1], (4-params[0]), (2-params[1]), length_includes_head = True)\n",
        "  ax2.plot(x_axis_2, y_axis_2)\n",
        "  ax2.scatter(X, Y)\n",
        "  plt.savefig(f'Iteration_{figname}');\n",
        "  plt.clf()\n",
        "  plt.show()\n",
        "\n",
        "\n",
        "# Learning Rate \n",
        "alpha = 0.1\n",
        "\n",
        "ans = gradient_descent_iterative_with_plotting(lsgradient, [X, Y], [5,5], alpha)\n",
        "print(f'θ0 = {ans[0]} and θ1 = {ans[1]} ')\n",
        "print(f'L(θ) = {func(ans, X, Y)}')"
      ],
      "execution_count": null,
      "outputs": [
        {
          "output_type": "display_data",
          "data": {
            "text/plain": [
              "<Figure size 432x288 with 0 Axes>"
            ]
          },
          "metadata": {}
        },
        {
          "output_type": "display_data",
          "data": {
            "text/plain": [
              "<Figure size 432x288 with 0 Axes>"
            ]
          },
          "metadata": {}
        },
        {
          "output_type": "display_data",
          "data": {
            "text/plain": [
              "<Figure size 432x288 with 0 Axes>"
            ]
          },
          "metadata": {}
        },
        {
          "output_type": "display_data",
          "data": {
            "text/plain": [
              "<Figure size 432x288 with 0 Axes>"
            ]
          },
          "metadata": {}
        },
        {
          "output_type": "display_data",
          "data": {
            "text/plain": [
              "<Figure size 432x288 with 0 Axes>"
            ]
          },
          "metadata": {}
        },
        {
          "output_type": "display_data",
          "data": {
            "text/plain": [
              "<Figure size 432x288 with 0 Axes>"
            ]
          },
          "metadata": {}
        },
        {
          "output_type": "display_data",
          "data": {
            "text/plain": [
              "<Figure size 432x288 with 0 Axes>"
            ]
          },
          "metadata": {}
        },
        {
          "output_type": "display_data",
          "data": {
            "text/plain": [
              "<Figure size 432x288 with 0 Axes>"
            ]
          },
          "metadata": {}
        },
        {
          "output_type": "display_data",
          "data": {
            "text/plain": [
              "<Figure size 432x288 with 0 Axes>"
            ]
          },
          "metadata": {}
        },
        {
          "output_type": "display_data",
          "data": {
            "text/plain": [
              "<Figure size 432x288 with 0 Axes>"
            ]
          },
          "metadata": {}
        },
        {
          "output_type": "display_data",
          "data": {
            "text/plain": [
              "<Figure size 432x288 with 0 Axes>"
            ]
          },
          "metadata": {}
        },
        {
          "output_type": "display_data",
          "data": {
            "text/plain": [
              "<Figure size 432x288 with 0 Axes>"
            ]
          },
          "metadata": {}
        },
        {
          "output_type": "display_data",
          "data": {
            "text/plain": [
              "<Figure size 432x288 with 0 Axes>"
            ]
          },
          "metadata": {}
        },
        {
          "output_type": "display_data",
          "data": {
            "text/plain": [
              "<Figure size 432x288 with 0 Axes>"
            ]
          },
          "metadata": {}
        },
        {
          "output_type": "display_data",
          "data": {
            "text/plain": [
              "<Figure size 432x288 with 0 Axes>"
            ]
          },
          "metadata": {}
        },
        {
          "output_type": "display_data",
          "data": {
            "text/plain": [
              "<Figure size 432x288 with 0 Axes>"
            ]
          },
          "metadata": {}
        },
        {
          "output_type": "display_data",
          "data": {
            "text/plain": [
              "<Figure size 432x288 with 0 Axes>"
            ]
          },
          "metadata": {}
        },
        {
          "output_type": "display_data",
          "data": {
            "text/plain": [
              "<Figure size 432x288 with 0 Axes>"
            ]
          },
          "metadata": {}
        },
        {
          "output_type": "display_data",
          "data": {
            "text/plain": [
              "<Figure size 432x288 with 0 Axes>"
            ]
          },
          "metadata": {}
        },
        {
          "output_type": "display_data",
          "data": {
            "text/plain": [
              "<Figure size 432x288 with 0 Axes>"
            ]
          },
          "metadata": {}
        },
        {
          "output_type": "display_data",
          "data": {
            "text/plain": [
              "<Figure size 432x288 with 0 Axes>"
            ]
          },
          "metadata": {}
        },
        {
          "output_type": "display_data",
          "data": {
            "text/plain": [
              "<Figure size 432x288 with 0 Axes>"
            ]
          },
          "metadata": {}
        },
        {
          "output_type": "display_data",
          "data": {
            "text/plain": [
              "<Figure size 432x288 with 0 Axes>"
            ]
          },
          "metadata": {}
        },
        {
          "output_type": "display_data",
          "data": {
            "text/plain": [
              "<Figure size 432x288 with 0 Axes>"
            ]
          },
          "metadata": {}
        },
        {
          "output_type": "display_data",
          "data": {
            "text/plain": [
              "<Figure size 432x288 with 0 Axes>"
            ]
          },
          "metadata": {}
        },
        {
          "output_type": "display_data",
          "data": {
            "text/plain": [
              "<Figure size 432x288 with 0 Axes>"
            ]
          },
          "metadata": {}
        },
        {
          "output_type": "display_data",
          "data": {
            "text/plain": [
              "<Figure size 432x288 with 0 Axes>"
            ]
          },
          "metadata": {}
        },
        {
          "output_type": "display_data",
          "data": {
            "text/plain": [
              "<Figure size 432x288 with 0 Axes>"
            ]
          },
          "metadata": {}
        },
        {
          "output_type": "display_data",
          "data": {
            "text/plain": [
              "<Figure size 432x288 with 0 Axes>"
            ]
          },
          "metadata": {}
        },
        {
          "output_type": "display_data",
          "data": {
            "text/plain": [
              "<Figure size 432x288 with 0 Axes>"
            ]
          },
          "metadata": {}
        },
        {
          "output_type": "display_data",
          "data": {
            "text/plain": [
              "<Figure size 432x288 with 0 Axes>"
            ]
          },
          "metadata": {}
        },
        {
          "output_type": "display_data",
          "data": {
            "text/plain": [
              "<Figure size 432x288 with 0 Axes>"
            ]
          },
          "metadata": {}
        },
        {
          "output_type": "display_data",
          "data": {
            "text/plain": [
              "<Figure size 432x288 with 0 Axes>"
            ]
          },
          "metadata": {}
        },
        {
          "output_type": "display_data",
          "data": {
            "text/plain": [
              "<Figure size 432x288 with 0 Axes>"
            ]
          },
          "metadata": {}
        },
        {
          "output_type": "display_data",
          "data": {
            "text/plain": [
              "<Figure size 432x288 with 0 Axes>"
            ]
          },
          "metadata": {}
        },
        {
          "output_type": "display_data",
          "data": {
            "text/plain": [
              "<Figure size 432x288 with 0 Axes>"
            ]
          },
          "metadata": {}
        },
        {
          "output_type": "display_data",
          "data": {
            "text/plain": [
              "<Figure size 432x288 with 0 Axes>"
            ]
          },
          "metadata": {}
        },
        {
          "output_type": "display_data",
          "data": {
            "text/plain": [
              "<Figure size 432x288 with 0 Axes>"
            ]
          },
          "metadata": {}
        },
        {
          "output_type": "display_data",
          "data": {
            "text/plain": [
              "<Figure size 432x288 with 0 Axes>"
            ]
          },
          "metadata": {}
        },
        {
          "output_type": "display_data",
          "data": {
            "text/plain": [
              "<Figure size 432x288 with 0 Axes>"
            ]
          },
          "metadata": {}
        },
        {
          "output_type": "display_data",
          "data": {
            "text/plain": [
              "<Figure size 432x288 with 0 Axes>"
            ]
          },
          "metadata": {}
        },
        {
          "output_type": "display_data",
          "data": {
            "text/plain": [
              "<Figure size 432x288 with 0 Axes>"
            ]
          },
          "metadata": {}
        },
        {
          "output_type": "display_data",
          "data": {
            "text/plain": [
              "<Figure size 432x288 with 0 Axes>"
            ]
          },
          "metadata": {}
        },
        {
          "output_type": "display_data",
          "data": {
            "text/plain": [
              "<Figure size 432x288 with 0 Axes>"
            ]
          },
          "metadata": {}
        },
        {
          "output_type": "display_data",
          "data": {
            "text/plain": [
              "<Figure size 432x288 with 0 Axes>"
            ]
          },
          "metadata": {}
        },
        {
          "output_type": "display_data",
          "data": {
            "text/plain": [
              "<Figure size 432x288 with 0 Axes>"
            ]
          },
          "metadata": {}
        },
        {
          "output_type": "display_data",
          "data": {
            "text/plain": [
              "<Figure size 432x288 with 0 Axes>"
            ]
          },
          "metadata": {}
        },
        {
          "output_type": "display_data",
          "data": {
            "text/plain": [
              "<Figure size 432x288 with 0 Axes>"
            ]
          },
          "metadata": {}
        },
        {
          "output_type": "display_data",
          "data": {
            "text/plain": [
              "<Figure size 432x288 with 0 Axes>"
            ]
          },
          "metadata": {}
        },
        {
          "output_type": "display_data",
          "data": {
            "text/plain": [
              "<Figure size 432x288 with 0 Axes>"
            ]
          },
          "metadata": {}
        },
        {
          "output_type": "display_data",
          "data": {
            "text/plain": [
              "<Figure size 432x288 with 0 Axes>"
            ]
          },
          "metadata": {}
        },
        {
          "output_type": "display_data",
          "data": {
            "text/plain": [
              "<Figure size 432x288 with 0 Axes>"
            ]
          },
          "metadata": {}
        },
        {
          "output_type": "display_data",
          "data": {
            "text/plain": [
              "<Figure size 432x288 with 0 Axes>"
            ]
          },
          "metadata": {}
        },
        {
          "output_type": "display_data",
          "data": {
            "text/plain": [
              "<Figure size 432x288 with 0 Axes>"
            ]
          },
          "metadata": {}
        },
        {
          "output_type": "display_data",
          "data": {
            "text/plain": [
              "<Figure size 432x288 with 0 Axes>"
            ]
          },
          "metadata": {}
        },
        {
          "output_type": "display_data",
          "data": {
            "text/plain": [
              "<Figure size 432x288 with 0 Axes>"
            ]
          },
          "metadata": {}
        },
        {
          "output_type": "display_data",
          "data": {
            "text/plain": [
              "<Figure size 432x288 with 0 Axes>"
            ]
          },
          "metadata": {}
        },
        {
          "output_type": "display_data",
          "data": {
            "text/plain": [
              "<Figure size 432x288 with 0 Axes>"
            ]
          },
          "metadata": {}
        },
        {
          "output_type": "display_data",
          "data": {
            "text/plain": [
              "<Figure size 432x288 with 0 Axes>"
            ]
          },
          "metadata": {}
        },
        {
          "output_type": "display_data",
          "data": {
            "text/plain": [
              "<Figure size 432x288 with 0 Axes>"
            ]
          },
          "metadata": {}
        },
        {
          "output_type": "display_data",
          "data": {
            "text/plain": [
              "<Figure size 432x288 with 0 Axes>"
            ]
          },
          "metadata": {}
        },
        {
          "output_type": "display_data",
          "data": {
            "text/plain": [
              "<Figure size 432x288 with 0 Axes>"
            ]
          },
          "metadata": {}
        },
        {
          "output_type": "display_data",
          "data": {
            "text/plain": [
              "<Figure size 432x288 with 0 Axes>"
            ]
          },
          "metadata": {}
        },
        {
          "output_type": "display_data",
          "data": {
            "text/plain": [
              "<Figure size 432x288 with 0 Axes>"
            ]
          },
          "metadata": {}
        },
        {
          "output_type": "display_data",
          "data": {
            "text/plain": [
              "<Figure size 432x288 with 0 Axes>"
            ]
          },
          "metadata": {}
        },
        {
          "output_type": "display_data",
          "data": {
            "text/plain": [
              "<Figure size 432x288 with 0 Axes>"
            ]
          },
          "metadata": {}
        },
        {
          "output_type": "display_data",
          "data": {
            "text/plain": [
              "<Figure size 432x288 with 0 Axes>"
            ]
          },
          "metadata": {}
        },
        {
          "output_type": "display_data",
          "data": {
            "text/plain": [
              "<Figure size 432x288 with 0 Axes>"
            ]
          },
          "metadata": {}
        },
        {
          "output_type": "display_data",
          "data": {
            "text/plain": [
              "<Figure size 432x288 with 0 Axes>"
            ]
          },
          "metadata": {}
        },
        {
          "output_type": "display_data",
          "data": {
            "text/plain": [
              "<Figure size 432x288 with 0 Axes>"
            ]
          },
          "metadata": {}
        },
        {
          "output_type": "display_data",
          "data": {
            "text/plain": [
              "<Figure size 432x288 with 0 Axes>"
            ]
          },
          "metadata": {}
        },
        {
          "output_type": "display_data",
          "data": {
            "text/plain": [
              "<Figure size 432x288 with 0 Axes>"
            ]
          },
          "metadata": {}
        },
        {
          "output_type": "display_data",
          "data": {
            "text/plain": [
              "<Figure size 432x288 with 0 Axes>"
            ]
          },
          "metadata": {}
        },
        {
          "output_type": "display_data",
          "data": {
            "text/plain": [
              "<Figure size 432x288 with 0 Axes>"
            ]
          },
          "metadata": {}
        },
        {
          "output_type": "display_data",
          "data": {
            "text/plain": [
              "<Figure size 432x288 with 0 Axes>"
            ]
          },
          "metadata": {}
        },
        {
          "output_type": "display_data",
          "data": {
            "text/plain": [
              "<Figure size 432x288 with 0 Axes>"
            ]
          },
          "metadata": {}
        },
        {
          "output_type": "display_data",
          "data": {
            "text/plain": [
              "<Figure size 432x288 with 0 Axes>"
            ]
          },
          "metadata": {}
        },
        {
          "output_type": "display_data",
          "data": {
            "text/plain": [
              "<Figure size 432x288 with 0 Axes>"
            ]
          },
          "metadata": {}
        },
        {
          "output_type": "display_data",
          "data": {
            "text/plain": [
              "<Figure size 432x288 with 0 Axes>"
            ]
          },
          "metadata": {}
        },
        {
          "output_type": "display_data",
          "data": {
            "text/plain": [
              "<Figure size 432x288 with 0 Axes>"
            ]
          },
          "metadata": {}
        },
        {
          "output_type": "display_data",
          "data": {
            "text/plain": [
              "<Figure size 432x288 with 0 Axes>"
            ]
          },
          "metadata": {}
        },
        {
          "output_type": "display_data",
          "data": {
            "text/plain": [
              "<Figure size 432x288 with 0 Axes>"
            ]
          },
          "metadata": {}
        },
        {
          "output_type": "display_data",
          "data": {
            "text/plain": [
              "<Figure size 432x288 with 0 Axes>"
            ]
          },
          "metadata": {}
        },
        {
          "output_type": "display_data",
          "data": {
            "text/plain": [
              "<Figure size 432x288 with 0 Axes>"
            ]
          },
          "metadata": {}
        },
        {
          "output_type": "display_data",
          "data": {
            "text/plain": [
              "<Figure size 432x288 with 0 Axes>"
            ]
          },
          "metadata": {}
        },
        {
          "output_type": "display_data",
          "data": {
            "text/plain": [
              "<Figure size 432x288 with 0 Axes>"
            ]
          },
          "metadata": {}
        },
        {
          "output_type": "display_data",
          "data": {
            "text/plain": [
              "<Figure size 432x288 with 0 Axes>"
            ]
          },
          "metadata": {}
        },
        {
          "output_type": "display_data",
          "data": {
            "text/plain": [
              "<Figure size 432x288 with 0 Axes>"
            ]
          },
          "metadata": {}
        },
        {
          "output_type": "display_data",
          "data": {
            "text/plain": [
              "<Figure size 432x288 with 0 Axes>"
            ]
          },
          "metadata": {}
        },
        {
          "output_type": "display_data",
          "data": {
            "text/plain": [
              "<Figure size 432x288 with 0 Axes>"
            ]
          },
          "metadata": {}
        },
        {
          "output_type": "display_data",
          "data": {
            "text/plain": [
              "<Figure size 432x288 with 0 Axes>"
            ]
          },
          "metadata": {}
        },
        {
          "output_type": "display_data",
          "data": {
            "text/plain": [
              "<Figure size 432x288 with 0 Axes>"
            ]
          },
          "metadata": {}
        },
        {
          "output_type": "display_data",
          "data": {
            "text/plain": [
              "<Figure size 432x288 with 0 Axes>"
            ]
          },
          "metadata": {}
        },
        {
          "output_type": "display_data",
          "data": {
            "text/plain": [
              "<Figure size 432x288 with 0 Axes>"
            ]
          },
          "metadata": {}
        },
        {
          "output_type": "display_data",
          "data": {
            "text/plain": [
              "<Figure size 432x288 with 0 Axes>"
            ]
          },
          "metadata": {}
        },
        {
          "output_type": "display_data",
          "data": {
            "text/plain": [
              "<Figure size 432x288 with 0 Axes>"
            ]
          },
          "metadata": {}
        },
        {
          "output_type": "display_data",
          "data": {
            "text/plain": [
              "<Figure size 432x288 with 0 Axes>"
            ]
          },
          "metadata": {}
        },
        {
          "output_type": "display_data",
          "data": {
            "text/plain": [
              "<Figure size 432x288 with 0 Axes>"
            ]
          },
          "metadata": {}
        },
        {
          "output_type": "display_data",
          "data": {
            "text/plain": [
              "<Figure size 432x288 with 0 Axes>"
            ]
          },
          "metadata": {}
        },
        {
          "output_type": "display_data",
          "data": {
            "text/plain": [
              "<Figure size 432x288 with 0 Axes>"
            ]
          },
          "metadata": {}
        },
        {
          "output_type": "stream",
          "name": "stdout",
          "text": [
            "θ0 = 4.000037570376705 and θ1 = 1.9999916901412398 \n",
            "L(θ) = 1.1669817578009631e-09\n"
          ]
        }
      ]
    },
    {
      "cell_type": "code",
      "metadata": {
        "id": "c2xjjLZzvA1U",
        "colab": {
          "base_uri": "https://localhost:8080/"
        },
        "outputId": "4dbdf499-927b-4dc4-b7b1-d39ced34d7bc"
      },
      "source": [
        "from PIL import Image\n",
        "import glob\n",
        "\n",
        "import imageio\n",
        "image_list = []\n",
        "for filename in glob.glob('/content/*.png'): #assuming gif\n",
        "    # im=Image.open(filename)\n",
        "    # print(filename)\n",
        "    image_list.append(filename)\n",
        "  \n",
        "images = []\n",
        "image_list.sort()\n",
        "\n",
        "# filenames = '/content/'\n",
        "for filename in image_list:\n",
        "  # print('T')\n",
        "    print(filename)\n",
        "    images.append(imageio.imread(filename))\n",
        "imageio.mimsave('movie.mp4', images)"
      ],
      "execution_count": null,
      "outputs": [
        {
          "output_type": "stream",
          "name": "stdout",
          "text": [
            "/content/Iteration_1.png\n",
            "/content/Iteration_11.png\n",
            "/content/Iteration_111.png\n",
            "/content/Iteration_1111.png\n",
            "/content/Iteration_11111.png\n",
            "/content/Iteration_111111.png\n",
            "/content/Iteration_1111111.png\n",
            "/content/Iteration_11111111.png\n",
            "/content/Iteration_111111111.png\n",
            "/content/Iteration_1111111111.png\n",
            "/content/Iteration_11111111111.png\n",
            "/content/Iteration_111111111111.png\n",
            "/content/Iteration_1111111111111.png\n",
            "/content/Iteration_11111111111111.png\n",
            "/content/Iteration_111111111111111.png\n",
            "/content/Iteration_1111111111111111.png\n",
            "/content/Iteration_11111111111111111.png\n",
            "/content/Iteration_111111111111111111.png\n",
            "/content/Iteration_1111111111111111111.png\n",
            "/content/Iteration_11111111111111111111.png\n",
            "/content/Iteration_111111111111111111111.png\n",
            "/content/Iteration_1111111111111111111111.png\n",
            "/content/Iteration_11111111111111111111111.png\n",
            "/content/Iteration_111111111111111111111111.png\n",
            "/content/Iteration_1111111111111111111111111.png\n",
            "/content/Iteration_11111111111111111111111111.png\n",
            "/content/Iteration_111111111111111111111111111.png\n",
            "/content/Iteration_1111111111111111111111111111.png\n",
            "/content/Iteration_11111111111111111111111111111.png\n",
            "/content/Iteration_111111111111111111111111111111.png\n",
            "/content/Iteration_1111111111111111111111111111111.png\n",
            "/content/Iteration_11111111111111111111111111111111.png\n",
            "/content/Iteration_111111111111111111111111111111111.png\n",
            "/content/Iteration_1111111111111111111111111111111111.png\n",
            "/content/Iteration_11111111111111111111111111111111111.png\n",
            "/content/Iteration_111111111111111111111111111111111111.png\n",
            "/content/Iteration_1111111111111111111111111111111111111.png\n",
            "/content/Iteration_11111111111111111111111111111111111111.png\n",
            "/content/Iteration_111111111111111111111111111111111111111.png\n",
            "/content/Iteration_1111111111111111111111111111111111111111.png\n",
            "/content/Iteration_11111111111111111111111111111111111111111.png\n",
            "/content/Iteration_111111111111111111111111111111111111111111.png\n",
            "/content/Iteration_1111111111111111111111111111111111111111111.png\n",
            "/content/Iteration_11111111111111111111111111111111111111111111.png\n",
            "/content/Iteration_111111111111111111111111111111111111111111111.png\n",
            "/content/Iteration_1111111111111111111111111111111111111111111111.png\n",
            "/content/Iteration_11111111111111111111111111111111111111111111111.png\n",
            "/content/Iteration_111111111111111111111111111111111111111111111111.png\n",
            "/content/Iteration_1111111111111111111111111111111111111111111111111.png\n",
            "/content/Iteration_11111111111111111111111111111111111111111111111111.png\n",
            "/content/Iteration_111111111111111111111111111111111111111111111111111.png\n",
            "/content/Iteration_1111111111111111111111111111111111111111111111111111.png\n",
            "/content/Iteration_11111111111111111111111111111111111111111111111111111.png\n",
            "/content/Iteration_111111111111111111111111111111111111111111111111111111.png\n",
            "/content/Iteration_1111111111111111111111111111111111111111111111111111111.png\n",
            "/content/Iteration_11111111111111111111111111111111111111111111111111111111.png\n",
            "/content/Iteration_111111111111111111111111111111111111111111111111111111111.png\n",
            "/content/Iteration_1111111111111111111111111111111111111111111111111111111111.png\n",
            "/content/Iteration_11111111111111111111111111111111111111111111111111111111111.png\n",
            "/content/Iteration_111111111111111111111111111111111111111111111111111111111111.png\n",
            "/content/Iteration_1111111111111111111111111111111111111111111111111111111111111.png\n",
            "/content/Iteration_11111111111111111111111111111111111111111111111111111111111111.png\n",
            "/content/Iteration_111111111111111111111111111111111111111111111111111111111111111.png\n",
            "/content/Iteration_1111111111111111111111111111111111111111111111111111111111111111.png\n",
            "/content/Iteration_11111111111111111111111111111111111111111111111111111111111111111.png\n",
            "/content/Iteration_111111111111111111111111111111111111111111111111111111111111111111.png\n",
            "/content/Iteration_1111111111111111111111111111111111111111111111111111111111111111111.png\n",
            "/content/Iteration_11111111111111111111111111111111111111111111111111111111111111111111.png\n",
            "/content/Iteration_111111111111111111111111111111111111111111111111111111111111111111111.png\n",
            "/content/Iteration_1111111111111111111111111111111111111111111111111111111111111111111111.png\n",
            "/content/Iteration_11111111111111111111111111111111111111111111111111111111111111111111111.png\n",
            "/content/Iteration_111111111111111111111111111111111111111111111111111111111111111111111111.png\n",
            "/content/Iteration_1111111111111111111111111111111111111111111111111111111111111111111111111.png\n",
            "/content/Iteration_11111111111111111111111111111111111111111111111111111111111111111111111111.png\n",
            "/content/Iteration_111111111111111111111111111111111111111111111111111111111111111111111111111.png\n",
            "/content/Iteration_1111111111111111111111111111111111111111111111111111111111111111111111111111.png\n",
            "/content/Iteration_11111111111111111111111111111111111111111111111111111111111111111111111111111.png\n",
            "/content/Iteration_111111111111111111111111111111111111111111111111111111111111111111111111111111.png\n",
            "/content/Iteration_1111111111111111111111111111111111111111111111111111111111111111111111111111111.png\n",
            "/content/Iteration_11111111111111111111111111111111111111111111111111111111111111111111111111111111.png\n",
            "/content/Iteration_111111111111111111111111111111111111111111111111111111111111111111111111111111111.png\n",
            "/content/Iteration_1111111111111111111111111111111111111111111111111111111111111111111111111111111111.png\n",
            "/content/Iteration_11111111111111111111111111111111111111111111111111111111111111111111111111111111111.png\n",
            "/content/Iteration_111111111111111111111111111111111111111111111111111111111111111111111111111111111111.png\n",
            "/content/Iteration_1111111111111111111111111111111111111111111111111111111111111111111111111111111111111.png\n",
            "/content/Iteration_11111111111111111111111111111111111111111111111111111111111111111111111111111111111111.png\n",
            "/content/Iteration_111111111111111111111111111111111111111111111111111111111111111111111111111111111111111.png\n",
            "/content/Iteration_1111111111111111111111111111111111111111111111111111111111111111111111111111111111111111.png\n",
            "/content/Iteration_11111111111111111111111111111111111111111111111111111111111111111111111111111111111111111.png\n",
            "/content/Iteration_111111111111111111111111111111111111111111111111111111111111111111111111111111111111111111.png\n",
            "/content/Iteration_1111111111111111111111111111111111111111111111111111111111111111111111111111111111111111111.png\n",
            "/content/Iteration_11111111111111111111111111111111111111111111111111111111111111111111111111111111111111111111.png\n",
            "/content/Iteration_111111111111111111111111111111111111111111111111111111111111111111111111111111111111111111111.png\n",
            "/content/Iteration_1111111111111111111111111111111111111111111111111111111111111111111111111111111111111111111111.png\n",
            "/content/Iteration_11111111111111111111111111111111111111111111111111111111111111111111111111111111111111111111111.png\n",
            "/content/Iteration_111111111111111111111111111111111111111111111111111111111111111111111111111111111111111111111111.png\n",
            "/content/Iteration_1111111111111111111111111111111111111111111111111111111111111111111111111111111111111111111111111.png\n",
            "/content/Iteration_11111111111111111111111111111111111111111111111111111111111111111111111111111111111111111111111111.png\n",
            "/content/Iteration_111111111111111111111111111111111111111111111111111111111111111111111111111111111111111111111111111.png\n",
            "/content/Iteration_1111111111111111111111111111111111111111111111111111111111111111111111111111111111111111111111111111.png\n"
          ]
        }
      ]
    }
  ]
}